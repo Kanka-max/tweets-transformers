{
  "nbformat": 4,
  "nbformat_minor": 0,
  "metadata": {
    "colab": {
      "name": "Rubrix + Transformers.ipynb",
      "provenance": [],
      "authorship_tag": "ABX9TyOeJ0zn1adwKPFWfjJrDPAb",
      "include_colab_link": true
    },
    "kernelspec": {
      "name": "python3",
      "display_name": "Python 3"
    },
    "language_info": {
      "name": "python"
    }
  },
  "cells": [
    {
      "cell_type": "markdown",
      "metadata": {
        "id": "view-in-github",
        "colab_type": "text"
      },
      "source": [
        "<a href=\"https://colab.research.google.com/github/Kanka-max/tweets-transformers/blob/main/Rubrix_%2B_Transformers.ipynb\" target=\"_parent\"><img src=\"https://colab.research.google.com/assets/colab-badge.svg\" alt=\"Open In Colab\"/></a>"
      ]
    },
    {
      "cell_type": "code",
      "execution_count": null,
      "metadata": {
        "id": "aqtgL2WxKahY"
      },
      "outputs": [],
      "source": [
        ""
      ]
    },
    {
      "cell_type": "markdown",
      "source": [
        "### Fine-tuning XLM-RoBERTa-Large-XNLI Language Model On Hate/Non-Hate contexts\n",
        "\n",
        "**Objective**\n",
        "\n",
        "Explore, annotate, and monitor data for hateful and non-hateful tweets.\n",
        "\n",
        "**Prerequisites**\n",
        "\n",
        "- A dataset in the hate/non-hate domain: tweets corpus (15000 samples)\n",
        "- Pretrained zero-shot classifier: RoBerta-Large.\n",
        "\n",
        "**Workflow**\n",
        "\n",
        "🏷️ Label a training dataset with hateful and non-hateful tweet instances with the pre-trained zero-shot classifier predictions.\n",
        "\n",
        "⚙️ Fine-tune the pre-trained classifier with the training dataset.\n",
        "\n",
        "🏷️ Label more data by correcting the predictions of the fine-tuned model.\n",
        "\n",
        "⚙️ Fine-tune the pre-trained classifier with the extended training dataset.\n"
      ],
      "metadata": {
        "id": "i3WX-tW0KiXY"
      }
    },
    {
      "cell_type": "code",
      "source": [
        ""
      ],
      "metadata": {
        "id": "IZgazeLEMVBe"
      },
      "execution_count": null,
      "outputs": []
    },
    {
      "cell_type": "markdown",
      "source": [
        "#### Load Dataset"
      ],
      "metadata": {
        "id": "Ofcc7tpOMdPx"
      }
    },
    {
      "cell_type": "code",
      "source": [
        ""
      ],
      "metadata": {
        "id": "PVvDPJFdMke8"
      },
      "execution_count": null,
      "outputs": []
    },
    {
      "cell_type": "code",
      "source": [
        ""
      ],
      "metadata": {
        "id": "q43OQvU2MqES"
      },
      "execution_count": null,
      "outputs": []
    },
    {
      "cell_type": "markdown",
      "source": [
        "#### Load RoBERTa-Large model and test it with an example from tweets dataset:"
      ],
      "metadata": {
        "id": "D8syNcYmMqmI"
      }
    },
    {
      "cell_type": "code",
      "source": [
        ""
      ],
      "metadata": {
        "id": "XjWESvsmM4Ii"
      },
      "execution_count": null,
      "outputs": []
    },
    {
      "cell_type": "code",
      "source": [
        ""
      ],
      "metadata": {
        "id": "guvLtX-RM40u"
      },
      "execution_count": null,
      "outputs": []
    },
    {
      "cell_type": "markdown",
      "source": [
        "#### Run the pre-trained Run the RoBERTa-Large model over the tweets and log the predictions to Rubrix"
      ],
      "metadata": {
        "id": "kgZsuZdiM9Sf"
      }
    },
    {
      "cell_type": "code",
      "source": [
        ""
      ],
      "metadata": {
        "id": "vfVqPMNpNHaP"
      },
      "execution_count": null,
      "outputs": []
    },
    {
      "cell_type": "code",
      "source": [
        ""
      ],
      "metadata": {
        "id": "Y2NzRl3nNIWd"
      },
      "execution_count": null,
      "outputs": []
    },
    {
      "cell_type": "markdown",
      "source": [
        "#### Explore and label data with the pretrained model\n",
        "##### Exploring how the pre-trained model is performing with our dataset."
      ],
      "metadata": {
        "id": "CXviKQwMNI3w"
      }
    },
    {
      "cell_type": "code",
      "source": [
        ""
      ],
      "metadata": {
        "id": "FY5YnEGHNX-9"
      },
      "execution_count": null,
      "outputs": []
    },
    {
      "cell_type": "code",
      "source": [
        ""
      ],
      "metadata": {
        "id": "GtBUIr7TNeBm"
      },
      "execution_count": null,
      "outputs": []
    },
    {
      "cell_type": "markdown",
      "source": [
        "#### Fine-tune the pre-trained model\n",
        "##### Load our training set from Rubrix and fine-tune using the Trainer API from Hugging Face"
      ],
      "metadata": {
        "id": "-5gIQZntNepM"
      }
    },
    {
      "cell_type": "code",
      "source": [
        ""
      ],
      "metadata": {
        "id": "wDAc8AkKNtJg"
      },
      "execution_count": null,
      "outputs": []
    },
    {
      "cell_type": "code",
      "source": [
        ""
      ],
      "metadata": {
        "id": "AOEymlSpNtq9"
      },
      "execution_count": null,
      "outputs": []
    },
    {
      "cell_type": "code",
      "source": [
        ""
      ],
      "metadata": {
        "id": "YGAjI8jVNtxd"
      },
      "execution_count": null,
      "outputs": []
    },
    {
      "cell_type": "code",
      "source": [
        ""
      ],
      "metadata": {
        "id": "N0df3IuZNuBg"
      },
      "execution_count": null,
      "outputs": []
    },
    {
      "cell_type": "markdown",
      "source": [
        "#### Test Model"
      ],
      "metadata": {
        "id": "pKL2SyEoNuXF"
      }
    },
    {
      "cell_type": "code",
      "source": [
        ""
      ],
      "metadata": {
        "id": "g9ILvhhbN1W8"
      },
      "execution_count": null,
      "outputs": []
    },
    {
      "cell_type": "code",
      "source": [
        ""
      ],
      "metadata": {
        "id": "65Cj3n08N3DA"
      },
      "execution_count": null,
      "outputs": []
    },
    {
      "cell_type": "markdown",
      "source": [
        "#### Run our fine-tuned model over the dataset and log the predictions"
      ],
      "metadata": {
        "id": "MD-fAqYoN3MU"
      }
    },
    {
      "cell_type": "code",
      "source": [
        ""
      ],
      "metadata": {
        "id": "pJif7zyfN7KC"
      },
      "execution_count": null,
      "outputs": []
    },
    {
      "cell_type": "code",
      "source": [
        ""
      ],
      "metadata": {
        "id": "aRiP2P7AN8xD"
      },
      "execution_count": null,
      "outputs": []
    },
    {
      "cell_type": "code",
      "source": [
        ""
      ],
      "metadata": {
        "id": "jjP-t31IN9Xq"
      },
      "execution_count": null,
      "outputs": []
    },
    {
      "cell_type": "markdown",
      "source": [
        "#### Evaluate"
      ],
      "metadata": {
        "id": "pejQPnMON_e2"
      }
    },
    {
      "cell_type": "code",
      "source": [
        ""
      ],
      "metadata": {
        "id": "EnodrYWKOBEi"
      },
      "execution_count": null,
      "outputs": []
    }
  ]
}